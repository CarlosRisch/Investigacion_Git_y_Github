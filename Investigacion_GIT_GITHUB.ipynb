{
 "cells": [
  {
   "cell_type": "markdown",
   "id": "2b6b90f9-0d56-486f-a5ba-03758a0565dd",
   "metadata": {},
   "source": [
    "# 1. Git y Github\n",
    "En esta investigación, primero veremos que es un sistema de control de versiones, luego definiremos ¿qué es Git y GitHub?, así como los conceptos básicos y comandos principales."
   ]
  },
  {
   "cell_type": "markdown",
   "id": "0150a8fc-0b81-46ef-a89b-4ff7e33e0b0a",
   "metadata": {},
   "source": [
    "## ¿Qué es un sistema de control de versiones?\n",
    "El SCV es un sistema que registra los cambios realizados sobre un archivo o conjunto de archivos a lo largo del tiempo, de modo que puedas llevar el historial del ciclo de vida de un proyecto, comparar cambios a lo largo del tiempo, ver quién los realizó o revertir el proyecto entero a un estado anterior. Cualquier tipo de archivo que se encuentre en un ordenador puede ponerse bajo control de versiones."
   ]
  },
  {
   "cell_type": "markdown",
   "id": "463dd06e-8191-493e-9608-4e52f8904447",
   "metadata": {},
   "source": [
    "## Ventajas del control de versiones\n",
    "Según **[Microsoft](https://learn.microsoft.com/es-es/devops/develop/git/what-is-version-control)**, El control de versiones beneficia en muchos aspectos de la producción, ya que ayuda a los equipos a trabajar juntos y distribuir soluciones a tiempo.\n",
    "* Crear flujos de trabajo\n",
    "* Trabajo con versiones\n",
    "* Codificar juntos\n",
    "* Mantener un historial\n",
    "* Automatización de tareas"
   ]
  },
  {
   "cell_type": "markdown",
   "id": "131a2e46-57ea-478c-a688-02f229cfafde",
   "metadata": {},
   "source": [
    "## ¿Qué es Git?\n",
    "Git es SCV distribuido, diseñado por _Linus Torvalds_, pensando en la eficiencia y la confiabilidad del mantenimiento de versiones de aplicaciones cuando estas tienen un gran número de archivos de código fuente. Git está optimizado para guardar todos estos cambios de forma atómica e incremental. Se obtiene su mayor eficiencia con archivos de texto plano, ya que con archivos binarios no puede guardar solo los cambios, sino que debe volver a grabar el archivo completo ante cada modificación, por mínima que sea, lo que hace que incremente demasiado el repositorio."
   ]
  },
  {
   "cell_type": "markdown",
   "id": "e1ed79c9-88fe-48b2-86c0-2c21c097ce30",
   "metadata": {},
   "source": [
    "<div>\n",
    "<img src=\"https://nodd3r.com/media/blog/Portadas_blog_21.png\" width=\"300\"/>\n",
    "</div>"
   ]
  },
  {
   "cell_type": "markdown",
   "id": "36b24b00-9dcf-4234-92f8-b024c8448dda",
   "metadata": {},
   "source": [
    "## ¿Qué es GitHub?\n",
    "Es una plataforma de desarrollo colaborativo para alojar proyectos utilizando el sistema de control de versiones de Git. Se utiliza principalmente para la creación de código fuente de programas de computadora.  \n",
    "GitHub puede considerarse como la red social de código para los programadores y en muchos casos es es visto tambien como tu curriculum vitae."
   ]
  },
  {
   "cell_type": "markdown",
   "id": "50ee9821-a9a9-4543-8366-c28f336cb33c",
   "metadata": {},
   "source": [
    "<div>\n",
    "<img src=\"data:image/png;base64,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\" width=\"300\"/>\n",
    "</div>"
   ]
  },
  {
   "cell_type": "markdown",
   "id": "b4ce6e09-419a-44ab-9b6f-71abe4a82281",
   "metadata": {},
   "source": [
    "## Comandos y Conceptos Básicos de Git\n",
    "Las tres secciones principales de un proyecto de Git:\n",
    "* El directorio de trabajo (Working Directory)\n",
    "* El área de preparación (Staging Area)\n",
    "* El directorio de Git (.git directory, Repository)\n",
    "\n",
    "1. Working Directory  \n",
    "Es una copia de una versión del proyecto. Estos archivos se sacan de la base de datos comprimida en el directorio de Git, y se colocan en discopara que los puedas usar o modificar.\n",
    "\n",
    "2. Staging Area  \n",
    "El 'Staging Area' es un área que almacena información acerca de lo que va a ir en tu próxima confirmación. A veces se le denomina índice.\n",
    "\n",
    "3. .git directory (Repository)  \n",
    "En el 'Repository' se almacenan los metadatos y la base de datos de objetos para tu proyecto. Es la parte más importante de Git (carpeta .git) y es lo que se copia cuando clonas un repositorio desde otra computadora.  "
   ]
  },
  {
   "cell_type": "markdown",
   "id": "2736f6ac-6902-45be-87c0-f1f01710a56c",
   "metadata": {},
   "source": [
    "<div>\n",
    "<img src=\"https://camo.githubusercontent.com/80d71c952791bda2065ccb8cee150ca1d63ea9cd38fa2c33c45e800d29f96567/687474703a2f2f6769742d73636d2e636f6d2f666967757265732f3138333333666967303130362d746e2e706e67\" width=\"300\"/>\n",
    "</div>\n"
   ]
  },
  {
   "cell_type": "markdown",
   "id": "f3981fd4-dec5-48e1-97f5-cb70eb9484ff",
   "metadata": {},
   "source": [
    "## Estados de un archivo\n",
    "* **Commited:** Si una versión concreta de un archivo está en el directorio de Git, se considera confirmada\n",
    "* **Staged:** Si ha sufrido cambios desde que se obtuvo del repositorio, pero ha sido añadida al área de preparación, está preparada.\n",
    "* **Modified:** Y si ha sufrido cambios desde que se obtuvo del respositorio, pero no se ha preparado, está modificada."
   ]
  },
  {
   "cell_type": "markdown",
   "id": "1aa49ec0-8b92-4f69-ab0d-0ca5400273aa",
   "metadata": {},
   "source": [
    "<div>\n",
    "<img src=\"https://images.velog.io/images/dinomoon/post/6e438218-2562-4782-86e0-43ca9c1d94a5/%E1%84%89%E1%85%B3%E1%84%8F%E1%85%B3%E1%84%85%E1%85%B5%E1%86%AB%E1%84%89%E1%85%A3%E1%86%BA%202022-01-15%20%E1%84%8B%E1%85%A9%E1%84%8C%E1%85%A5%E1%86%AB%2011.09.41.png\" width=\"300\"/>\n",
    "</div>"
   ]
  },
  {
   "cell_type": "markdown",
   "id": "db0a6c7f-1399-4314-af12-ae9abe81f3b1",
   "metadata": {},
   "source": [
    "## Ramas o Branches\n",
    "Al crear una nueva rama se copia el último commit en esta nueva rama. Todos los cambios hechos en esta rama no se reflejarán en la rama master hasta que hagamos un merge.\n",
    "\n",
    "* **git branch:** Crea una nueva rama\n",
    "* **git checkout:** Se mueve a la rama especificada\n",
    "* **git merge:** fusiona la rama actual con la rama especificada y crea un nuevo commit de está fusión.\n",
    "* **git branch:** Lista las ramas creadas "
   ]
  },
  {
   "cell_type": "markdown",
   "id": "84a766b5-7fdf-402f-8dc2-fcdf2b89c3e1",
   "metadata": {},
   "source": [
    "## ¿Qué es un branch y cómo funciona un Merge en Git?\n",
    "Todos los commits se aplican sobre una rama. Por convención se empieza a trabajar en la rama master (Puede cambiarse el nombre de ser necesario) y se crean nuevas a partir de esta, para crear flujos de trabajo independientes.  \n",
    "Crear una nueva rama implica copiar un commit de cualquier rama, pasarlo a otra rama y continuar el flujo de trabajo principal que continua en la rama master.  \n",
    "Se pueden crear todas las ramas y commits que se requieran para mantener ordenado el proyecto. Incluso puede aprovechar el registro de cambios de Git para crear ramas, traer versiones viejas de codigo, arreglarlas y combinarlas de nuevo para mejorar el proyecto.  \n"
   ]
  },
  {
   "cell_type": "markdown",
   "id": "4e4a5cd5-a86b-4975-b7e3-15e49e01baba",
   "metadata": {},
   "source": [
    "## Comandos básicos\n",
    "* __git init:__ Inicializa un repositorio de Git en la carpeta donde se ejecuta el comando.\n",
    "* __git add:__ Añade los archivos especificados al área de preparación (staging).\n",
    "* __git commit -m \"commit description\":__ Confirma los archivos que se encuentran en el área de preparación y los agrega al repositorio.\n",
    "* __git commit -am \"commit description:\"__ Añade al staging area y hace un commit mediante un solo comando. (no funciona con archivos nuevos)\n",
    "* __git status:__ Ofrece una descripción del estado de los archivos (untracked, ready to commit, nothing to commit).\n",
    "* __git rm (. -r, filename) (--cached):__ Remueve los archivos del index.\n",
    "* __git config --global user.email:__ Configura un email\n",
    "* __git config --global user.name:__ Configura un nombre\n",
    "* __git config list:__ Lista las configuraciones\n",
    "\n",
    "### Analizar cambios en los archivos de un proyecto Git\n",
    "* __git log:__ Lista de manera descendente los commits realizados.\n",
    "* __git log --stat:__ Además de listar los commits, muestra la cantidad de bytes añadidos y eliminados en cada uno de los archivos modificados.\n",
    "* __git show filename:__ Permite ver la historia de los cambios en un archivo.\n",
    "* __git diff:__ Compara diferencias entre cambios confirmados"
   ]
  },
  {
   "cell_type": "markdown",
   "id": "602c2599-43ee-410a-97c6-04a416508ad2",
   "metadata": {},
   "source": [
    "## GitHub - Repositorios Remotos\n",
    "GitHub esta basada en el sistema de control de versiones distribuida de Git, por lo que se puede contar con sus funciones y herramientas, aunque GitHub ofrece varias opciones adicionales y su interfaz es mucho más fácil de manejar, por lo que no es absolutamente necesario que las personas que lo usan tengan un gran conocimiento técnico.\n",
    "\n",
    "### Ventajas de GitHub\n",
    "Existe un gran número de razones que convierten a GitHub en una gran opción para el control y gestión de tus proyectos de código. Aquí algunas de ellas:  \n",
    "* GitHub permite que alojemos proyectos en repositorios de forma gratuita\n",
    "* Te brinda la posibilidad de personalizar tu perfil en la plataforma\n",
    "* Los repositorios son públicos por defecto. Sin embargo, GitHub te permite también alojar tus proyectos de forma privada\n",
    "* Puedes crear y compartir páginas web estáticas con GitHub Pages\n",
    "* Facilita compartir tus proyectos de una forma mucho más fácil y crear un portafolio\n",
    "* Te permite colaborar para mejorar los proyectos de otros y a otros mejorar o aportar a los tuyos\n",
    "* Ayuda reducir significativamente los errores humanos y escribir tu código más rápido con GitHub Copilot Copilot\n",
    "\n",
    "Por seguridad y practicidad, para trabajar con repositorios remotos lo ideal es no enviar las crendenciales de loging cada vez que se transfiera información con la plataforma, para eso se configuran las llaves SSH, siendo el método más seguro.\n",
    "\n",
    "### Llaves SSH\n",
    "1. Generar las llaves SSH. Si bien no es obligatorio, se recomienda proteger la llave privada con una contraseña cuando lo solicita el proceso de generación.\n",
    "2. Terminar de configurar el sistema operativo\n",
    "\n",
    "Luego de crear las llaves SSH se debe entregar la llave pública a GitHub para realizar la comunicación de forma segura y sin necesidad de escribir el usuario y contraseña."
   ]
  },
  {
   "cell_type": "markdown",
   "id": "e85939e0-960c-4d67-a772-56100fe32e1c",
   "metadata": {},
   "source": [
    "## Crear ramas (branches) en GitHub\n",
    "Branch se puede ver como el mapa lineal de los commits que has realizado al archivo. Cuando empezamos un proyecto con GitHub, automáticamente nos crea una rama llamada master, a partir de la cual comenzaremos a crear nuestras propias ramas.  \n",
    "\n",
    "* Entra en tu repositorio.\n",
    "* En la parte superior de la página da clic en Rama actual. En la lista de rama selecciona la rama llamada master, que será nuestra base para la que estamos creando.\n",
    "* Luego presiona New Branch (Nueva Rama)\n",
    "* Añade el nombre de tu nueva rama\n",
    "* Selecciona la rama actual (master) en la que se basara la nueva rama\n",
    "* Presiona Create Branch (Crear Rama)r Rama)"
   ]
  },
  {
   "cell_type": "markdown",
   "id": "18c61dd5-2573-46d7-98d2-61d7bec7a6ad",
   "metadata": {},
   "source": [
    "## Crear solicitudes de extracción (pull requests) en GitHub\n",
    "Las solicitudes de extracción o pull requests son el formato para contribuir con los cambios que realizaste a un código base para que sean fusionados.\n",
    "\n",
    "Haz clic en el botón bifurcación (Fork) en la página de GitHub que contiene la base de código original al que deseas contribuir, para crear una copia del mismo en tu cuenta. Bifurcar un repositorio te permite realizar cambios y experimentos sin la preocupación de afectar el proyecto original.  \r\n",
    "Obtén la URL de la bifurcación que acabas de crea  r\r\n",
    "Usa el comando git clone para clonar la base de código de Fork en la página de tu Github en tu computadora loc  al\r\n",
    "Realiza los cambios que consideres necesarios en tu repositorio local. Agrega y modifica archiv  os.\r\n",
    "Ahora inserta el repositorio de código local en el repositorio de código de Fork en Github, con los siguientes coman  \n",
    "1. __git add__\n",
    "2. __git commit__\n",
    "3. __git push__\n",
    "\n",
    "Vuelve a la página de tu fork en Github\r\n",
    "Presiona el botón Solicitud de Extracción (pull request)\r\n",
    "Dale un nombre a tu solicitud de extracción, colocando los detalles de los cambios que realizaste y finalmente presiona el botón enviar.dos:"
   ]
  },
  {
   "cell_type": "code",
   "execution_count": 4,
   "id": "87b4c553-140a-4bfc-b898-feb8dc4a197c",
   "metadata": {},
   "outputs": [
    {
     "name": "stdout",
     "output_type": "stream",
     "text": [
      "Initialized empty Git repository in C:/Users/risca/Desktop/Mestria Ciencia de Datos/Ciencia de datos en Python/Ciencia_de_Datos_Python/U/.git/\n"
     ]
    }
   ],
   "source": [
    "!git init"
   ]
  },
  {
   "cell_type": "code",
   "execution_count": 5,
   "id": "bd032fd1-3e4c-4fc7-9eb9-d2037bf14de8",
   "metadata": {},
   "outputs": [],
   "source": [
    "!git remote add origin https://github.com/CarlosRisch/Investigacion_Git_y_Github.git"
   ]
  },
  {
   "cell_type": "code",
   "execution_count": null,
   "id": "398c4d48-c071-4097-9e4d-15a7c0eed01a",
   "metadata": {},
   "outputs": [],
   "source": []
  }
 ],
 "metadata": {
  "kernelspec": {
   "display_name": "Python 3 (ipykernel)",
   "language": "python",
   "name": "python3"
  },
  "language_info": {
   "codemirror_mode": {
    "name": "ipython",
    "version": 3
   },
   "file_extension": ".py",
   "mimetype": "text/x-python",
   "name": "python",
   "nbconvert_exporter": "python",
   "pygments_lexer": "ipython3",
   "version": "3.11.7"
  }
 },
 "nbformat": 4,
 "nbformat_minor": 5
}
